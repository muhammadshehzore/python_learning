{
 "cells": [
  {
   "cell_type": "code",
   "execution_count": null,
   "metadata": {},
   "outputs": [],
   "source": [
    "print('Pakistan Zindabad')\n",
    "print('Pakistan Zindabad')\n",
    "print('Pakistan Zindabad')\n",
    "print('Pakistan Zindabad')\n",
    "print('Pakistan Zindabad')\n",
    "print('Pakistan Zindabad')\n",
    "print('Pakistan Zindabad')"
   ]
  },
  {
   "cell_type": "code",
   "execution_count": null,
   "metadata": {},
   "outputs": [],
   "source": [
    "print('pakistan zindabad')\n",
    "print('pakistan zindabad')\n",
    "print('pakistan zindabad')\n",
    "print('pakistan zindabad')\n",
    "print('pakistan zindabad')\n",
    "print('pakistan zindabad')"
   ]
  }
 ],
 "metadata": {
  "language_info": {
   "name": "python"
  }
 },
 "nbformat": 4,
 "nbformat_minor": 2
}
